{
 "cells": [
  {
   "cell_type": "code",
   "execution_count": 13,
   "metadata": {
    "collapsed": true
   },
   "outputs": [],
   "source": [
    "import tensorflow as tf\n",
    "import numpy as np\n",
    "from tensorflow.contrib.learn.python.learn.datasets import base\n",
    "\n"
   ]
  },
  {
   "cell_type": "code",
   "execution_count": 3,
   "metadata": {
    "scrolled": true
   },
   "outputs": [
    {
     "name": "stdout",
     "output_type": "stream",
     "text": [
      "WARNING:tensorflow:From <ipython-input-3-d7f2dd734005>:6: load_csv_with_header (from tensorflow.contrib.learn.python.learn.datasets.base) is deprecated and will be removed in a future version.\n",
      "Instructions for updating:\n",
      "Use tf.data instead.\n",
      "[[5.9 3.  4.2 1.5]\n",
      " [6.9 3.1 5.4 2.1]\n",
      " [5.1 3.3 1.7 0.5]\n",
      " [6.  3.4 4.5 1.6]\n",
      " [5.5 2.5 4.  1.3]\n",
      " [6.2 2.9 4.3 1.3]\n",
      " [5.5 4.2 1.4 0.2]\n",
      " [6.3 2.8 5.1 1.5]\n",
      " [5.6 3.  4.1 1.3]\n",
      " [6.7 2.5 5.8 1.8]\n",
      " [7.1 3.  5.9 2.1]\n",
      " [4.3 3.  1.1 0.1]\n",
      " [5.6 2.8 4.9 2. ]\n",
      " [5.5 2.3 4.  1.3]\n",
      " [6.  2.2 4.  1. ]\n",
      " [5.1 3.5 1.4 0.2]\n",
      " [5.7 2.6 3.5 1. ]\n",
      " [4.8 3.4 1.9 0.2]\n",
      " [5.1 3.4 1.5 0.2]\n",
      " [5.7 2.5 5.  2. ]\n",
      " [5.4 3.4 1.7 0.2]\n",
      " [5.6 3.  4.5 1.5]\n",
      " [6.3 2.9 5.6 1.8]\n",
      " [6.3 2.5 4.9 1.5]\n",
      " [5.8 2.7 3.9 1.2]\n",
      " [6.1 3.  4.6 1.4]\n",
      " [5.2 4.1 1.5 0.1]\n",
      " [6.7 3.1 4.7 1.5]\n",
      " [6.7 3.3 5.7 2.5]\n",
      " [6.4 2.9 4.3 1.3]]\n",
      "[2 1 2 0 0 0 0 2 1 0 1 1 0 0 2 1 2 2 2 0 2 2 0 2 2 0 1 2 1 1 1 1 1 2 2 2 2\n",
      " 2 0 0 2 2 2 0 0 2 0 2 0 2 0 1 1 0 1 2 2 2 2 1 1 2 2 2 1 2 0 2 2 0 0 1 0 2\n",
      " 2 0 1 1 1 2 0 1 1 1 2 0 1 1 1 0 2 1 0 0 2 0 0 2 1 0 0 1 0 1 0 0 0 0 1 0 2\n",
      " 1 0 2 0 1 1 0 0 1]\n"
     ]
    }
   ],
   "source": [
    "flowers = {0:\"setosa\", 1: \"versicolor\", 2: \"virginica\"} \n",
    "\n",
    "training = \"/home/student/Desktop/iris_training.csv\"\n",
    "test = \"/home/student/Desktop/Iris_test.csv\"\n",
    "predict = \"/home/student/Desktop/iris_predict.csv\"\n",
    "training_set = base.load_csv_with_header(filename = training, features_dtype = np.float32,target_dtype = np.int)\n",
    "\n",
    "test_set = base.load_csv_with_header(filename = test, features_dtype = np.float32,target_dtype = np.int)\n",
    "predict_set = base.load_csv_with_header(filename = predict, features_dtype = np.float32,target_dtype = np.int) \n",
    "\n",
    "print(test_set.data)\n",
    "print(training_set.target)"
   ]
  },
  {
   "cell_type": "code",
   "execution_count": 4,
   "metadata": {
    "collapsed": true
   },
   "outputs": [],
   "source": [
    "features_name = \"flower_features\"\n",
    "feature_columns = [tf.feature_column.numeric_column(features_name, shape =[4])]\n"
   ]
  },
  {
   "cell_type": "code",
   "execution_count": 5,
   "metadata": {},
   "outputs": [
    {
     "name": "stdout",
     "output_type": "stream",
     "text": [
      "INFO:tensorflow:Using default config.\n",
      "INFO:tensorflow:Using config: {'_model_dir': './Iris Model', '_tf_random_seed': None, '_save_summary_steps': 100, '_save_checkpoints_steps': None, '_save_checkpoints_secs': 600, '_session_config': None, '_keep_checkpoint_max': 5, '_keep_checkpoint_every_n_hours': 10000, '_log_step_count_steps': 100, '_train_distribute': None, '_service': None, '_cluster_spec': <tensorflow.python.training.server_lib.ClusterSpec object at 0x7fd847d77978>, '_task_type': 'worker', '_task_id': 0, '_global_id_in_cluster': 0, '_master': '', '_evaluation_master': '', '_is_chief': True, '_num_ps_replicas': 0, '_num_worker_replicas': 1}\n"
     ]
    }
   ],
   "source": [
    "classifier =tf.estimator.LinearClassifier(feature_columns = feature_columns, model_dir = \"./Iris Model\", n_classes =3)"
   ]
  },
  {
   "cell_type": "code",
   "execution_count": 6,
   "metadata": {
    "collapsed": true
   },
   "outputs": [],
   "source": [
    "def input_fn(dataset):\n",
    "    def _fn():\n",
    "        features = {features_name: tf.constant(dataset.data)}\n",
    "        label = tf.constant(dataset.target)\n",
    "        return features, label\n",
    "    return _fn\n"
   ]
  },
  {
   "cell_type": "code",
   "execution_count": 7,
   "metadata": {
    "scrolled": true
   },
   "outputs": [
    {
     "name": "stdout",
     "output_type": "stream",
     "text": [
      "INFO:tensorflow:Calling model_fn.\n",
      "INFO:tensorflow:Done calling model_fn.\n",
      "INFO:tensorflow:Create CheckpointSaverHook.\n",
      "INFO:tensorflow:Graph was finalized.\n",
      "INFO:tensorflow:Restoring parameters from ./Iris Model/model.ckpt-51000\n",
      "INFO:tensorflow:Running local_init_op.\n",
      "INFO:tensorflow:Done running local_init_op.\n",
      "INFO:tensorflow:Saving checkpoints for 51001 into ./Iris Model/model.ckpt.\n",
      "INFO:tensorflow:loss = 4.396549, step = 51001\n",
      "INFO:tensorflow:global_step/sec: 1411.21\n",
      "INFO:tensorflow:loss = 4.394927, step = 51101 (0.072 sec)\n",
      "INFO:tensorflow:global_step/sec: 2649.01\n",
      "INFO:tensorflow:loss = 4.393301, step = 51201 (0.038 sec)\n",
      "INFO:tensorflow:global_step/sec: 2638.87\n",
      "INFO:tensorflow:loss = 4.3916826, step = 51301 (0.038 sec)\n",
      "INFO:tensorflow:global_step/sec: 2614.4\n",
      "INFO:tensorflow:loss = 4.390066, step = 51401 (0.038 sec)\n",
      "INFO:tensorflow:global_step/sec: 2713.43\n",
      "INFO:tensorflow:loss = 4.38846, step = 51501 (0.037 sec)\n",
      "INFO:tensorflow:global_step/sec: 2833.36\n",
      "INFO:tensorflow:loss = 4.3868594, step = 51601 (0.035 sec)\n",
      "INFO:tensorflow:global_step/sec: 2563.05\n",
      "INFO:tensorflow:loss = 4.3852596, step = 51701 (0.039 sec)\n",
      "INFO:tensorflow:global_step/sec: 2811.86\n",
      "INFO:tensorflow:loss = 4.3836584, step = 51801 (0.035 sec)\n",
      "INFO:tensorflow:global_step/sec: 2831.64\n",
      "INFO:tensorflow:loss = 4.382064, step = 51901 (0.035 sec)\n",
      "INFO:tensorflow:global_step/sec: 2728.89\n",
      "INFO:tensorflow:loss = 4.380472, step = 52001 (0.037 sec)\n",
      "INFO:tensorflow:global_step/sec: 2873.03\n",
      "INFO:tensorflow:loss = 4.378881, step = 52101 (0.035 sec)\n",
      "INFO:tensorflow:global_step/sec: 2898.38\n",
      "INFO:tensorflow:loss = 4.377297, step = 52201 (0.035 sec)\n",
      "INFO:tensorflow:global_step/sec: 2897.76\n",
      "INFO:tensorflow:loss = 4.3757124, step = 52301 (0.035 sec)\n",
      "INFO:tensorflow:global_step/sec: 2788.65\n",
      "INFO:tensorflow:loss = 4.3741364, step = 52401 (0.036 sec)\n",
      "INFO:tensorflow:global_step/sec: 2812.89\n",
      "INFO:tensorflow:loss = 4.372566, step = 52501 (0.036 sec)\n",
      "INFO:tensorflow:global_step/sec: 2794.25\n",
      "INFO:tensorflow:loss = 4.3709993, step = 52601 (0.036 sec)\n",
      "INFO:tensorflow:global_step/sec: 2833.45\n",
      "INFO:tensorflow:loss = 4.36944, step = 52701 (0.035 sec)\n",
      "INFO:tensorflow:global_step/sec: 2751.57\n",
      "INFO:tensorflow:loss = 4.367878, step = 52801 (0.036 sec)\n",
      "INFO:tensorflow:global_step/sec: 2698.03\n",
      "INFO:tensorflow:loss = 4.366319, step = 52901 (0.037 sec)\n",
      "INFO:tensorflow:Saving checkpoints for 53000 into ./Iris Model/model.ckpt.\n",
      "INFO:tensorflow:Loss for final step: 4.3647785.\n"
     ]
    },
    {
     "data": {
      "text/plain": [
       "<tensorflow.python.estimator.canned.linear.LinearClassifier at 0x7fd847de5898>"
      ]
     },
     "execution_count": 7,
     "metadata": {},
     "output_type": "execute_result"
    }
   ],
   "source": [
    "classifier.train(input_fn = input_fn(training_set), steps = 2000)"
   ]
  },
  {
   "cell_type": "code",
   "execution_count": 8,
   "metadata": {},
   "outputs": [
    {
     "name": "stdout",
     "output_type": "stream",
     "text": [
      "INFO:tensorflow:Calling model_fn.\n",
      "INFO:tensorflow:Done calling model_fn.\n",
      "INFO:tensorflow:Starting evaluation at 2018-07-03-00:13:36\n",
      "INFO:tensorflow:Graph was finalized.\n",
      "INFO:tensorflow:Restoring parameters from ./Iris Model/model.ckpt-53000\n",
      "INFO:tensorflow:Running local_init_op.\n",
      "INFO:tensorflow:Done running local_init_op.\n",
      "INFO:tensorflow:Evaluation [200/2000]\n",
      "INFO:tensorflow:Evaluation [400/2000]\n",
      "INFO:tensorflow:Evaluation [600/2000]\n",
      "INFO:tensorflow:Evaluation [800/2000]\n",
      "INFO:tensorflow:Evaluation [1000/2000]\n",
      "INFO:tensorflow:Evaluation [1200/2000]\n",
      "INFO:tensorflow:Evaluation [1400/2000]\n",
      "INFO:tensorflow:Evaluation [1600/2000]\n",
      "INFO:tensorflow:Evaluation [1800/2000]\n",
      "INFO:tensorflow:Evaluation [2000/2000]\n",
      "INFO:tensorflow:Finished evaluation at 2018-07-03-00:13:37\n",
      "INFO:tensorflow:Saving dict for global step 53000: accuracy = 0.96666664, average_loss = 0.070599474, global_step = 53000, loss = 2.117984\n",
      "{'accuracy': 0.96666664, 'average_loss': 0.070599474, 'loss': 2.117984, 'global_step': 53000}\n",
      "the accuracy for this model is 0.96666664\n"
     ]
    }
   ],
   "source": [
    "accuracy_score = classifier.evaluate(input_fn = input_fn(test_set), steps = 2000)\n",
    "print(accuracy_score)\n",
    "print(\"the accuracy for this model is\", accuracy_score['accuracy'])"
   ]
  },
  {
   "cell_type": "code",
   "execution_count": 9,
   "metadata": {
    "collapsed": true
   },
   "outputs": [],
   "source": [
    "predict_x = {\n",
    "    'SepalLength':[5.1,5.9,6,9], \n",
    "    'SepalWidth':[3.3,3.0,3.1],\n",
    "    'PetalLength':[1.7,4.2,5.4],\n",
    "    'PetalWidth':[0.5,1,5,2.1],\n",
    "}"
   ]
  },
  {
   "cell_type": "code",
   "execution_count": 12,
   "metadata": {},
   "outputs": [
    {
     "name": "stdout",
     "output_type": "stream",
     "text": [
      "<generator object Estimator.predict at 0x7fd844126728>\n",
      "WARNING:tensorflow:Input graph does not use tf.data.Dataset or contain a QueueRunner. That means predict yields forever. This is probably a mistake.\n",
      "INFO:tensorflow:Calling model_fn.\n",
      "INFO:tensorflow:Done calling model_fn.\n",
      "INFO:tensorflow:Graph was finalized.\n",
      "INFO:tensorflow:Restoring parameters from ./Iris Model/model.ckpt-53000\n",
      "INFO:tensorflow:Running local_init_op.\n",
      "INFO:tensorflow:Done running local_init_op.\n",
      "Features:  [ 25.407497  18.05625  -22.273615]\n",
      "Guesstimate:  setosa\n",
      "Features:  [-12.797027    1.1738148   7.683405 ]\n",
      "Guesstimate:  virginica\n",
      "Features:  [-2.0075197  6.560093  -1.3212042]\n",
      "Guesstimate:  versicolor\n"
     ]
    }
   ],
   "source": [
    "predictor = classifier.predict(input_fn = input_fn(predict_set))\n",
    "print(predictor)\n",
    "\n",
    "i = 0\n",
    "for p in predictor:\n",
    "    if i < 3:\n",
    "        print(\"Features: \", p['logits'])\n",
    "        print(\"Guesstimate: \", flowers[int(p['class_ids'])])\n",
    "        i += 1\n",
    "    else:\n",
    "        break"
   ]
  },
  {
   "cell_type": "code",
   "execution_count": null,
   "metadata": {
    "collapsed": true
   },
   "outputs": [],
   "source": []
  },
  {
   "cell_type": "code",
   "execution_count": null,
   "metadata": {
    "collapsed": true
   },
   "outputs": [],
   "source": []
  }
 ],
 "metadata": {
  "kernelspec": {
   "display_name": "Python 3",
   "language": "python",
   "name": "python3"
  },
  "language_info": {
   "codemirror_mode": {
    "name": "ipython",
    "version": 3
   },
   "file_extension": ".py",
   "mimetype": "text/x-python",
   "name": "python",
   "nbconvert_exporter": "python",
   "pygments_lexer": "ipython3",
   "version": "3.6.3"
  }
 },
 "nbformat": 4,
 "nbformat_minor": 2
}
